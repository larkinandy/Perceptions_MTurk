{
 "cells": [
  {
   "cell_type": "markdown",
   "metadata": {},
   "source": [
    "# assign random direction to image and download #\n",
    "**Author:** Andrew Larkin\n",
    "\n",
    "**Date Created:** December 16, 2019\n",
    "\n",
    "**Summary:** Given heading of the road an image was taken from, randomly assign a cardinal viewing direction (front, left, back, right), and determine the compass heading needed to download image.  In the second part of the script, given image id and heading, download image.  "
   ]
  },
  {
   "cell_type": "markdown",
   "metadata": {},
   "source": [
    "### setup ###"
   ]
  },
  {
   "cell_type": "code",
   "execution_count": 3,
   "metadata": {},
   "outputs": [],
   "source": [
    "import os\n",
    "import pandas as ps\n",
    "import random\n",
    "import wget\n",
    "import time\n",
    "import globalConstants as gConst"
   ]
  },
  {
   "cell_type": "code",
   "execution_count": null,
   "metadata": {
    "scrolled": true
   },
   "outputs": [],
   "source": [
    "PARENT_FOLDER = gConst.PARENT_FOLDER\n",
    "OUTPUT_FOLDER = PARENT_FOLDER + \"Downloaded_Images/\"\n",
    "INPUT_CSV = PARENT_FOLDER + \"olympiaPoints.csv\"\n",
    "UPDATED_CSV = PARENT_FOLDER + \"olympiaPoints_updated.csv\"\n",
    "ANGLE_MULTIPLE = 90\n",
    "API_KEY = gConst.API_KEY\n",
    "\n",
    "INDEX = 5\n",
    "SAMPLE_SIZE = 20000"
   ]
  },
  {
   "cell_type": "markdown",
   "metadata": {},
   "source": [
    "### load raw data used to calculate headings ###\n",
    "**Inputs:** <br>\n",
    "- **inFilepath** (str) - absolute filepath to csv data\n",
    "\n",
    "**Outputs:**\n",
    "pandas dataframe, sorted by FID"
   ]
  },
  {
   "cell_type": "code",
   "execution_count": 4,
   "metadata": {},
   "outputs": [],
   "source": [
    "def loadSamplePoints(inFilepath):\n",
    "    rawData = ps.read_csv(inFilepath)\n",
    "    return(rawData.sort_values(by=['FID']))"
   ]
  },
  {
   "cell_type": "markdown",
   "metadata": {},
   "source": [
    "### randomly assign a viewing angle to an image and determine the compass direction that corresponds to the angle ###\n",
    "**Inputs:**\n",
    "- **origHeading** (int) - compass heading to corresponds to a viewing angle of straight ahead\n",
    "\n",
    "**Outputs:**\n",
    "- **cat** (str) - categorical viewing angle (straight ahead or side)\n",
    "- **downloadHeading** (int) - compass direction of the viewing angle"
   ]
  },
  {
   "cell_type": "code",
   "execution_count": 5,
   "metadata": {},
   "outputs": [],
   "source": [
    "def randomizeHeading(origHeading):\n",
    "    randInt = random.randint(0,3)\n",
    "    cat = \"none\"\n",
    "    if(randInt %2 == 0):\n",
    "        cat = \"straightAngle\"\n",
    "    else:         \n",
    "        cat = \"sideAngle\"\n",
    "    downloadHeading = (origHeading + randInt*ANGLE_MULTIPLE)%360\n",
    "    return([cat,downloadHeading])"
   ]
  },
  {
   "cell_type": "markdown",
   "metadata": {},
   "source": [
    "### randomly assign a viewing angle and determine compass directions for all images in a set ###\n",
    "**Inputs:** \n",
    "- **headings** (list of strings) - list of compass headings that corresponds to a viewing angle of straight ahead for all images in the set\n",
    "\n",
    "**Outputs:**\n",
    "- **cats** (list of strings) - list of categorical viewing angles (straight ahead or side)\n",
    "- **downloadHeadings** (list of ints) - list of compass directions of the viewing angles"
   ]
  },
  {
   "cell_type": "code",
   "execution_count": 6,
   "metadata": {},
   "outputs": [],
   "source": [
    "def randomizeAllHeadings(headings):\n",
    "    downloadHeadings, cats = [],[]\n",
    "    for heading in headings:\n",
    "        tempCat,tempHeading = randomizeHeading(heading)\n",
    "        downloadHeadings.append(tempHeading)\n",
    "        cats.append(tempCat)\n",
    "    return([cats,downloadHeadings])"
   ]
  },
  {
   "cell_type": "markdown",
   "metadata": {},
   "source": [
    "### main function for randomly assigning headings ###"
   ]
  },
  {
   "cell_type": "code",
   "execution_count": 7,
   "metadata": {},
   "outputs": [],
   "source": [
    "def main():\n",
    "    samplingData = loadSamplePoints(INPUT_CSV)\n",
    "    cats,headings =  randomizeAllHeadings(samplingData['viewingAngle'])\n",
    "    samplingData['viewCat'] = cats\n",
    "    samplingData['downloadHeading'] = headings\n",
    "    samplingData.to_csv(UPDATED_CSV,index=False)"
   ]
  },
  {
   "cell_type": "code",
   "execution_count": 12,
   "metadata": {},
   "outputs": [],
   "source": [
    "main()"
   ]
  },
  {
   "cell_type": "markdown",
   "metadata": {},
   "source": [
    "### create wget string for downloading streetview image ###\n",
    "**Inputs:**\n",
    "- **panid** (str) - unique GSV id\n",
    "- **heading** (int) - viewing angle to center the image on \n",
    "\n",
    "**Outputs**\n",
    "- **combinedString** - wget string for downloading image"
   ]
  },
  {
   "cell_type": "code",
   "execution_count": 8,
   "metadata": {},
   "outputs": [],
   "source": [
    "def createDownloadString(panid,heading):\n",
    "    baseString = \"https://maps.googleapis.com/maps/api/streetview?size=640x640&pitch=0\"\n",
    "    locString = \"&pano=\" + str(panid)\n",
    "    headingString = \"&heading=\" + str(heading)\n",
    "    apiString = \"&key=\" + str(API_KEY)\n",
    "    combinedString = baseString + locString + headingString + apiString\n",
    "    return(combinedString)"
   ]
  },
  {
   "cell_type": "markdown",
   "metadata": {},
   "source": [
    "### determine absolute filepath to store a downloaded image ###\n",
    "**Inputs:**\n",
    "- **panid** (str) - unique GSV image id\n",
    "- **heading** (int) - viewing angle downloaded image is centered on\n",
    "\n",
    "**Outputs:**\n",
    "- absolute filepath to store downloaded image, in string format"
   ]
  },
  {
   "cell_type": "code",
   "execution_count": 9,
   "metadata": {},
   "outputs": [],
   "source": [
    "def createDownloadFilepath(panid,heading):\n",
    "    return(OUTPUT_FOLDER + panid + \"_\" + str(heading) + \".jpg\")"
   ]
  },
  {
   "cell_type": "code",
   "execution_count": 16,
   "metadata": {
    "scrolled": false
   },
   "outputs": [
    {
     "name": "stdout",
     "output_type": "stream",
     "text": [
      "       FID  Join_Count   distance                      id        lat  \\\n",
      "0        0           1  26.386666  2kGxPAk72vAX7Bz9OgJrQg  47.056922   \n",
      "1        1           1  17.671732  eZ3mpFHW5rC7Zzjd1lSzTQ  47.066785   \n",
      "2        2           1  30.564218  k_4e5iS5MOK5owMMFBSwMw  46.959897   \n",
      "3        3           1  11.600742  oEPuWaB4sL-DVLL6lTqMDA  47.025545   \n",
      "4        4           1  28.653638  HzY-Dg_Tc8DKFxyi8FO-UA  47.035386   \n",
      "...    ...         ...        ...                     ...        ...   \n",
      "3379  3891           1  22.120900  hNFOTwOHiXwgUfPKgXO3gA  47.013768   \n",
      "3380  3892           1  19.954747  fy25Y2GFJG8PknW1QeQvwg  47.058809   \n",
      "3381  3893           1  35.016106  Ajn0q5cgNx-PXW5fhUEg8Q  47.024248   \n",
      "3382  3896           1  17.075390  2XHuTlU3Os-qwKj-y2RIlA  47.032267   \n",
      "3383  3897           1  19.378979  0mSP8vmw3bg-KvBTRmLDtw  47.090456   \n",
      "\n",
      "             lon  month  year  viewingAngle        viewCat  downloadHeading  \n",
      "0    -122.825596      9  2011           106      sideAngle               16  \n",
      "1    -122.925477      8  2008           102  straightAngle              102  \n",
      "2    -122.803830      8  2009           280      sideAngle               10  \n",
      "3    -122.745016      9  2011           300  straightAngle              120  \n",
      "4    -122.813308      8  2017           257  straightAngle               77  \n",
      "...          ...    ...   ...           ...            ...              ...  \n",
      "3379 -122.809138      9  2011           230      sideAngle              320  \n",
      "3380 -122.841424      9  2011           272  straightAngle               92  \n",
      "3381 -122.836000      8  2008           347      sideAngle              257  \n",
      "3382 -122.899029      8  2008           272  straightAngle              272  \n",
      "3383 -122.779949      8  2009            89      sideAngle              359  \n",
      "\n",
      "[3384 rows x 11 columns]\n",
      "100% [..............................................................................] 46702 / 46702"
     ]
    },
    {
     "ename": "IndexError",
     "evalue": "single positional indexer is out-of-bounds",
     "output_type": "error",
     "traceback": [
      "\u001b[1;31m---------------------------------------------------------------------------\u001b[0m",
      "\u001b[1;31mIndexError\u001b[0m                                Traceback (most recent call last)",
      "\u001b[1;32m<ipython-input-16-6831596313c7>\u001b[0m in \u001b[0;36m<module>\u001b[1;34m\u001b[0m\n\u001b[0;32m      6\u001b[0m \u001b[0mprint\u001b[0m\u001b[1;33m(\u001b[0m\u001b[0msampleToDownload\u001b[0m\u001b[1;33m)\u001b[0m\u001b[1;33m\u001b[0m\u001b[1;33m\u001b[0m\u001b[0m\n\u001b[0;32m      7\u001b[0m \u001b[1;32mfor\u001b[0m \u001b[0mindex\u001b[0m \u001b[1;32min\u001b[0m \u001b[0mrange\u001b[0m\u001b[1;33m(\u001b[0m\u001b[0mSAMPLE_SIZE\u001b[0m\u001b[1;33m)\u001b[0m\u001b[1;33m:\u001b[0m\u001b[1;33m\u001b[0m\u001b[1;33m\u001b[0m\u001b[0m\n\u001b[1;32m----> 8\u001b[1;33m     \u001b[0moneSample\u001b[0m \u001b[1;33m=\u001b[0m \u001b[0msampleToDownload\u001b[0m\u001b[1;33m.\u001b[0m\u001b[0miloc\u001b[0m\u001b[1;33m[\u001b[0m\u001b[0mindex\u001b[0m\u001b[1;33m]\u001b[0m\u001b[1;33m\u001b[0m\u001b[1;33m\u001b[0m\u001b[0m\n\u001b[0m\u001b[0;32m      9\u001b[0m     \u001b[0mdownloadUrl\u001b[0m \u001b[1;33m=\u001b[0m \u001b[0mcreateDownloadString\u001b[0m\u001b[1;33m(\u001b[0m\u001b[0moneSample\u001b[0m\u001b[1;33m[\u001b[0m\u001b[1;34m'id'\u001b[0m\u001b[1;33m]\u001b[0m\u001b[1;33m,\u001b[0m\u001b[0moneSample\u001b[0m\u001b[1;33m[\u001b[0m\u001b[1;34m'downloadHeading'\u001b[0m\u001b[1;33m]\u001b[0m\u001b[1;33m)\u001b[0m\u001b[1;33m\u001b[0m\u001b[1;33m\u001b[0m\u001b[0m\n\u001b[0;32m     10\u001b[0m     \u001b[0moutputFilepath\u001b[0m \u001b[1;33m=\u001b[0m \u001b[0mcreateDownloadFilepath\u001b[0m\u001b[1;33m(\u001b[0m\u001b[0moneSample\u001b[0m\u001b[1;33m[\u001b[0m\u001b[1;34m'id'\u001b[0m\u001b[1;33m]\u001b[0m\u001b[1;33m,\u001b[0m\u001b[0moneSample\u001b[0m\u001b[1;33m[\u001b[0m\u001b[1;34m'downloadHeading'\u001b[0m\u001b[1;33m]\u001b[0m\u001b[1;33m)\u001b[0m\u001b[1;33m\u001b[0m\u001b[1;33m\u001b[0m\u001b[0m\n",
      "\u001b[1;32mC:\\ProgramData\\Anaconda3\\lib\\site-packages\\pandas\\core\\indexing.py\u001b[0m in \u001b[0;36m__getitem__\u001b[1;34m(self, key)\u001b[0m\n\u001b[0;32m   1422\u001b[0m \u001b[1;33m\u001b[0m\u001b[0m\n\u001b[0;32m   1423\u001b[0m             \u001b[0mmaybe_callable\u001b[0m \u001b[1;33m=\u001b[0m \u001b[0mcom\u001b[0m\u001b[1;33m.\u001b[0m\u001b[0mapply_if_callable\u001b[0m\u001b[1;33m(\u001b[0m\u001b[0mkey\u001b[0m\u001b[1;33m,\u001b[0m \u001b[0mself\u001b[0m\u001b[1;33m.\u001b[0m\u001b[0mobj\u001b[0m\u001b[1;33m)\u001b[0m\u001b[1;33m\u001b[0m\u001b[1;33m\u001b[0m\u001b[0m\n\u001b[1;32m-> 1424\u001b[1;33m             \u001b[1;32mreturn\u001b[0m \u001b[0mself\u001b[0m\u001b[1;33m.\u001b[0m\u001b[0m_getitem_axis\u001b[0m\u001b[1;33m(\u001b[0m\u001b[0mmaybe_callable\u001b[0m\u001b[1;33m,\u001b[0m \u001b[0maxis\u001b[0m\u001b[1;33m=\u001b[0m\u001b[0maxis\u001b[0m\u001b[1;33m)\u001b[0m\u001b[1;33m\u001b[0m\u001b[1;33m\u001b[0m\u001b[0m\n\u001b[0m\u001b[0;32m   1425\u001b[0m \u001b[1;33m\u001b[0m\u001b[0m\n\u001b[0;32m   1426\u001b[0m     \u001b[1;32mdef\u001b[0m \u001b[0m_is_scalar_access\u001b[0m\u001b[1;33m(\u001b[0m\u001b[0mself\u001b[0m\u001b[1;33m,\u001b[0m \u001b[0mkey\u001b[0m\u001b[1;33m:\u001b[0m \u001b[0mTuple\u001b[0m\u001b[1;33m)\u001b[0m\u001b[1;33m:\u001b[0m\u001b[1;33m\u001b[0m\u001b[1;33m\u001b[0m\u001b[0m\n",
      "\u001b[1;32mC:\\ProgramData\\Anaconda3\\lib\\site-packages\\pandas\\core\\indexing.py\u001b[0m in \u001b[0;36m_getitem_axis\u001b[1;34m(self, key, axis)\u001b[0m\n\u001b[0;32m   2155\u001b[0m \u001b[1;33m\u001b[0m\u001b[0m\n\u001b[0;32m   2156\u001b[0m             \u001b[1;31m# validate the location\u001b[0m\u001b[1;33m\u001b[0m\u001b[1;33m\u001b[0m\u001b[1;33m\u001b[0m\u001b[0m\n\u001b[1;32m-> 2157\u001b[1;33m             \u001b[0mself\u001b[0m\u001b[1;33m.\u001b[0m\u001b[0m_validate_integer\u001b[0m\u001b[1;33m(\u001b[0m\u001b[0mkey\u001b[0m\u001b[1;33m,\u001b[0m \u001b[0maxis\u001b[0m\u001b[1;33m)\u001b[0m\u001b[1;33m\u001b[0m\u001b[1;33m\u001b[0m\u001b[0m\n\u001b[0m\u001b[0;32m   2158\u001b[0m \u001b[1;33m\u001b[0m\u001b[0m\n\u001b[0;32m   2159\u001b[0m             \u001b[1;32mreturn\u001b[0m \u001b[0mself\u001b[0m\u001b[1;33m.\u001b[0m\u001b[0m_get_loc\u001b[0m\u001b[1;33m(\u001b[0m\u001b[0mkey\u001b[0m\u001b[1;33m,\u001b[0m \u001b[0maxis\u001b[0m\u001b[1;33m=\u001b[0m\u001b[0maxis\u001b[0m\u001b[1;33m)\u001b[0m\u001b[1;33m\u001b[0m\u001b[1;33m\u001b[0m\u001b[0m\n",
      "\u001b[1;32mC:\\ProgramData\\Anaconda3\\lib\\site-packages\\pandas\\core\\indexing.py\u001b[0m in \u001b[0;36m_validate_integer\u001b[1;34m(self, key, axis)\u001b[0m\n\u001b[0;32m   2086\u001b[0m         \u001b[0mlen_axis\u001b[0m \u001b[1;33m=\u001b[0m \u001b[0mlen\u001b[0m\u001b[1;33m(\u001b[0m\u001b[0mself\u001b[0m\u001b[1;33m.\u001b[0m\u001b[0mobj\u001b[0m\u001b[1;33m.\u001b[0m\u001b[0m_get_axis\u001b[0m\u001b[1;33m(\u001b[0m\u001b[0maxis\u001b[0m\u001b[1;33m)\u001b[0m\u001b[1;33m)\u001b[0m\u001b[1;33m\u001b[0m\u001b[1;33m\u001b[0m\u001b[0m\n\u001b[0;32m   2087\u001b[0m         \u001b[1;32mif\u001b[0m \u001b[0mkey\u001b[0m \u001b[1;33m>=\u001b[0m \u001b[0mlen_axis\u001b[0m \u001b[1;32mor\u001b[0m \u001b[0mkey\u001b[0m \u001b[1;33m<\u001b[0m \u001b[1;33m-\u001b[0m\u001b[0mlen_axis\u001b[0m\u001b[1;33m:\u001b[0m\u001b[1;33m\u001b[0m\u001b[1;33m\u001b[0m\u001b[0m\n\u001b[1;32m-> 2088\u001b[1;33m             \u001b[1;32mraise\u001b[0m \u001b[0mIndexError\u001b[0m\u001b[1;33m(\u001b[0m\u001b[1;34m\"single positional indexer is out-of-bounds\"\u001b[0m\u001b[1;33m)\u001b[0m\u001b[1;33m\u001b[0m\u001b[1;33m\u001b[0m\u001b[0m\n\u001b[0m\u001b[0;32m   2089\u001b[0m \u001b[1;33m\u001b[0m\u001b[0m\n\u001b[0;32m   2090\u001b[0m     \u001b[1;32mdef\u001b[0m \u001b[0m_getitem_tuple\u001b[0m\u001b[1;33m(\u001b[0m\u001b[0mself\u001b[0m\u001b[1;33m,\u001b[0m \u001b[0mtup\u001b[0m\u001b[1;33m)\u001b[0m\u001b[1;33m:\u001b[0m\u001b[1;33m\u001b[0m\u001b[1;33m\u001b[0m\u001b[0m\n",
      "\u001b[1;31mIndexError\u001b[0m: single positional indexer is out-of-bounds"
     ]
    }
   ],
   "source": [
    "downloadData = ps.read_csv(UPDATED_CSV)\n",
    "downloadData = downloadData.sort_values(by=['FID'])\n",
    "startIndex = INDEX*SAMPLE_SIZE\n",
    "endIndex = min((INDEX+1)*SAMPLE_SIZE,len(downloadData['FID']))\n",
    "sampleToDownload = downloadData#downloadData.iloc[startIndex:endIndex]\n",
    "print(sampleToDownload)\n",
    "for index in range(SAMPLE_SIZE):\n",
    "    oneSample = sampleToDownload.iloc[index]\n",
    "    downloadUrl = createDownloadString(oneSample['id'],oneSample['downloadHeading'])\n",
    "    outputFilepath = createDownloadFilepath(oneSample['id'],oneSample['downloadHeading'])\n",
    "    if not(os.path.exists(outputFilepath)):\n",
    "        try:\n",
    "            wget.download(downloadUrl,outputFilepath)\n",
    "        except:\n",
    "            print(\"couldn't download image: \" + outputFilepath)"
   ]
  }
 ],
 "metadata": {
  "kernelspec": {
   "display_name": "Python 3",
   "language": "python",
   "name": "python3"
  },
  "language_info": {
   "codemirror_mode": {
    "name": "ipython",
    "version": 3
   },
   "file_extension": ".py",
   "mimetype": "text/x-python",
   "name": "python",
   "nbconvert_exporter": "python",
   "pygments_lexer": "ipython3",
   "version": "3.7.4"
  }
 },
 "nbformat": 4,
 "nbformat_minor": 2
}
