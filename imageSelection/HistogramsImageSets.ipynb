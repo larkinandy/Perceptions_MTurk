{
 "cells": [
  {
   "cell_type": "code",
   "execution_count": null,
   "metadata": {},
   "outputs": [],
   "source": [
    "import pandas as ps\n",
    "import os\n",
    "import numpy as np\n",
    "import globalConstants as gConst"
   ]
  },
  {
   "cell_type": "code",
   "execution_count": null,
   "metadata": {},
   "outputs": [],
   "source": [
    "PARENT_FOLDER = gConst.PARENT_FOLDER\n",
    "INPUT_CSV = PARENT_FOLDER + \"trainingImageMeta.csv\"\n",
    "PSP_NET_BIG = PARENT_FOLDER + \"output_120k.csv\"\n",
    "PSP_NET_SUPP = PARENT_FOLDER + \"output_QC_substitute_images.csv\"\n",
    "SEATTLE_STRAIGHT_CSV = PARENT_FOLDER + \"SeattleStraightCandidates.csv\"\n",
    "SEATTLE_SIDE_CSV = PARENT_FOLDER + \"SeattleSideCandidates.csv\"\n",
    "CITY_STRAIGHT_CSV = PARENT_FOLDER + \"CityStraightCandidates.csv\"\n",
    "CITY_SIDE_CSV = PARENT_FOLDER + \"CitySideCandidates.csv\"\n",
    "SUBURB_STRAIGHT_CSV = PARENT_FOLDER + \"SuburbStraightCandidates.csv\"\n",
    "SUBURB_SIDE_CSV = PARENT_FOLDER + \"SuburbSideCandidates.csv\""
   ]
  },
  {
   "cell_type": "code",
   "execution_count": null,
   "metadata": {},
   "outputs": [],
   "source": [
    "def loadDatasets():\n",
    "    a = ps.read_csv(PSP_NET_BIG)\n",
    "    b = ps.read_csv(PSP_NET_SUPP)\n",
    "    PSP_NET = a.append(b)\n",
    "    trainingImgMeta = ps.read_csv(INPUT_CSV)\n",
    "    numImgs = len(trainingImgMeta['id'])\n",
    "    joinVals = []\n",
    "    for index in range(numImgs):\n",
    "        joinVals.append(trainingImgMeta['id'][index] + \"_\" + str(trainingImgMeta['GSVHeading'][index]))\n",
    "    trainingImgMeta['joinVal'] = joinVals\n",
    "    combinedSet = trainingImgMeta.merge(PSP_NET, left_on='joinVal', right_on='panid',how=\"inner\")\n",
    "    return([combinedSet,trainingImgMeta])"
   ]
  },
  {
   "cell_type": "code",
   "execution_count": null,
   "metadata": {},
   "outputs": [],
   "source": [
    "def createCategory(inData,categories,categoryName):\n",
    "    tempData = np.zeros((len(inData['wall']),1))\n",
    "    index=0\n",
    "    for category in categories:\n",
    "        print(category)\n",
    "        tempData = np.add(tempData,np.array(inData[category]).reshape(len(inData['wall']),1))\n",
    "    inData[categoryName] = tempData"
   ]
  },
  {
   "cell_type": "code",
   "execution_count": null,
   "metadata": {},
   "outputs": [],
   "source": [
    "def createCategories(inData):\n",
    "    # crate the built environment category\n",
    "    builtEnv = ['wall','building','road','windowpane','sidewalk','hovel','house','fence','railing',\n",
    "               'signboard','skyscraper','path','stairs','runway','screen door','stairway','bridge',\n",
    "               'bench','booth','awning','streetlight','television receiver','pole','bannister','escalator',\n",
    "               'fountain','swimming pool','step','sculpture','traffic light','pier']\n",
    "    createCategory(inData,builtEnv,'built_env')\n",
    "\n",
    "    build2 = ['house','building','skyscraper','windowpane','hovel']\n",
    "    createCategory(inData,build2,'build2')\n",
    "    \n",
    "    # create the accessibility category \n",
    "    accessibility = ['sidewalk','escalator','path','stairs','stairway','bench','step']\n",
    "    createCategory(inData,accessibility,'accessibility')\n",
    "    \n",
    "    # create the allNature category\n",
    "    allNature = ['tree','grass','plant','field','land','flower','water','sea','waterfall','lake','earth',\n",
    "                'mountain','rock','sky','sand','hill','dirt track']\n",
    "    createCategory(inData,allNature,'all_nature')\n",
    "    \n",
    "    # create the greenspace cateogry \n",
    "    greenspace = ['tree','grass','plant','field','flower']\n",
    "    createCategory(inData,greenspace,'greenspace')\n",
    "    \n",
    "    # create the bluespace category \n",
    "    bluespace = ['water','sea','waterfall','lake']\n",
    "    createCategory(inData,bluespace,'bluespace')\n",
    "    \n",
    "    # create the otherNature category\n",
    "    otherNature = ['earth','mountain','rock','sky','sand','hill','dirt track','land']\n",
    "    createCategory(inData,otherNature,'other_nature')\n",
    "    \n",
    "    # create the animate category\n",
    "    animate = ['person','boat','car','bus','truck','airplane','van','ship','minibike','animal','bicycle']\n",
    "    createCategory(inData,animate,'animate')"
   ]
  },
  {
   "cell_type": "code",
   "execution_count": null,
   "metadata": {},
   "outputs": [],
   "source": [
    "combinedSet,trainingImg = loadDatasets()\n",
    "createCategories(combinedSet)"
   ]
  },
  {
   "cell_type": "code",
   "execution_count": null,
   "metadata": {},
   "outputs": [],
   "source": [
    "def createSubsetDatasets(inData):\n",
    "    SeattleSubset = inData[inData['proposed_p']==0]\n",
    "    SeattleStraight = SeattleSubset[SeattleSubset['viewCat']=='straightAngle']\n",
    "    SeattleStraight.to_csv(SEATTLE_STRAIGHT_CSV)\n",
    "    SeattleSide = SeattleSubset[SeattleSubset['viewCat']=='sideAngle']\n",
    "    SeattleSide.to_csv(SEATTLE_SIDE_CSV)\n",
    "    NotSeattleSubset = inData[inData['proposed_p']>0]\n",
    "    CitySubset = NotSeattleSubset[NotSeattleSubset['UATYP10']=='U']\n",
    "    CityStraight = CitySubset[CitySubset['viewCat']=='straightAngle']\n",
    "    CityStraight.to_csv(CITY_STRAIGHT_CSV)\n",
    "    CitySide = CitySubset[CitySubset['viewCat']=='sideAngle']\n",
    "    CitySide.to_csv(CITY_SIDE_CSV)\n",
    "    SuburbSubset = NotSeattleSubset[NotSeattleSubset['UATYP10']=='C']\n",
    "    SuburbStraight = SuburbSubset[SuburbSubset['viewCat']=='straightAngle']\n",
    "    SuburbStraight.to_csv(SUBURB_STRAIGHT_CSV)\n",
    "    SuburbSide = SuburbSubset[SuburbSubset['viewCat']=='sideAngle']\n",
    "    SuburbSide.to_csv(SUBURB_SIDE_CSV)"
   ]
  },
  {
   "cell_type": "code",
   "execution_count": null,
   "metadata": {},
   "outputs": [],
   "source": [
    "createSubsetDatasets(combinedSet)"
   ]
  }
 ],
 "metadata": {
  "kernelspec": {
   "display_name": "Python 3",
   "language": "python",
   "name": "python3"
  },
  "language_info": {
   "codemirror_mode": {
    "name": "ipython",
    "version": 3
   },
   "file_extension": ".py",
   "mimetype": "text/x-python",
   "name": "python",
   "nbconvert_exporter": "python",
   "pygments_lexer": "ipython3",
   "version": "3.7.4"
  }
 },
 "nbformat": 4,
 "nbformat_minor": 2
}
