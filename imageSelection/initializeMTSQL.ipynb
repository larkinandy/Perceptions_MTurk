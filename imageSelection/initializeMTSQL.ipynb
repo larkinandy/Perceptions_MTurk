{
 "cells": [
  {
   "cell_type": "code",
   "execution_count": null,
   "metadata": {},
   "outputs": [],
   "source": [
    "import psycopg2\n",
    "import sqlalchemy\n",
    "import os \n",
    "import pandas as ps\n",
    "import numpy as np\n",
    "from trueskill import Rating\n",
    "import globalConstants as gConst"
   ]
  },
  {
   "cell_type": "code",
   "execution_count": null,
   "metadata": {},
   "outputs": [],
   "source": [
    "PARENT_FOLDER = gConst.PARENT_FOLDER\n",
    "GSV_CSV = PARENT_FOLDER + \"AllFinal.csv\"\n",
    "PSP_CSV = \"PSPNet_training_Apr7_20.csv\"\n",
    "CAR_CSV = PARENT_FOLDER + \"carImageData/carData_Apr1_20.csv\"\n",
    "OUTCOME_LABELS = gConst.OUTCOME_LABELS\n",
    "HTTP_BASE_STRING = gConst.HTTP_SITE\n",
    "SELECTED_IMAGE_FOLDER = gConst.SELECTED_IMAGE_FOLDER\n",
    "PSP_ORIG_NAMES = gConst.PSP_ORIG_NAMES\n",
    "PSP_RENAMED = gConst.PSP_RENAMED\n",
    "PSP_CATEGORIES = gConst.PSP_CATEGORIES"
   ]
  },
  {
   "cell_type": "code",
   "execution_count": null,
   "metadata": {},
   "outputs": [],
   "source": [
    "def getExampleImageNames(exampleImageFolder):\n",
    "    imageNames = os.listdir(exampleImageFolder)\n",
    "    imageIds = []\n",
    "    for imageName in imageNames:\n",
    "        imageIds.append(imageName[0:len(imageName)-4])\n",
    "    #imageDF = ps.DataFrame(imageNames, columns = ['panid'])\n",
    "    return(imageIds)"
   ]
  },
  {
   "cell_type": "code",
   "execution_count": null,
   "metadata": {},
   "outputs": [],
   "source": [
    "def loadGSVData(gsvFile):\n",
    "    panids = []\n",
    "    gsvData = ps.read_csv(gsvFile)\n",
    "    for index in range(len(gsvData['id'])):\n",
    "        tempRecord = gsvData.iloc[index]\n",
    "        panids.append(tempRecord['id'] + \"_\" + str(tempRecord['GSVHeading']))\n",
    "    gsvData['panid'] = panids\n",
    "    return(gsvData)"
   ]
  },
  {
   "cell_type": "code",
   "execution_count": null,
   "metadata": {},
   "outputs": [],
   "source": [
    "def loadImageData(gsvFile,pspFile,testing=False):\n",
    "    gsvData = loadGSVData(gsvFile)\n",
    "    if(testing):\n",
    "        sampledImages = getExampleImageNames(SELECTED_IMAGE_FOLDER)\n",
    "        gsvData = gsvData[gsvData['panid'].isin(sampledImages)]\n",
    "    pspData = ps.read_csv(pspFile)\n",
    "    result = ps.merge(gsvData, pspData, on='panid')\n",
    "    return(result)"
   ]
  },
  {
   "cell_type": "code",
   "execution_count": null,
   "metadata": {},
   "outputs": [],
   "source": [
    "from sqlalchemy import create_engine \n",
    "POSTGRES_ADDRESS = 'localhost'\n",
    "POSTGRES_PORT = '5432' \n",
    "POSTGRES_USERNAME = gCONST.PGUSER\n",
    "POSTGRES_PASSWORD = gCONST.PGPWORD\n",
    "POSTGRES_DBNAME = gCONST.PGDB\n",
    "postgres_str = ('postgresql://{username}:{password}@{ipaddress}:{port}/{dbname}'.format(\n",
    "    username=POSTGRES_USERNAME,password=POSTGRES_PASSWORD,\n",
    "    ipaddress=POSTGRES_ADDRESS,\n",
    "    port=POSTGRES_PORT,\n",
    "    dbname=POSTGRES_DBNAME))\n",
    "cnx = create_engine(postgres_str) \n",
    "connection = cnx.connect()"
   ]
  },
  {
   "cell_type": "code",
   "execution_count": null,
   "metadata": {},
   "outputs": [],
   "source": [
    "def insertImgMetaRecord(currRecord):\n",
    "    image_id = str(currRecord['panid'])\n",
    "    year = str(currRecord['year'])\n",
    "    month = str(currRecord['month'])\n",
    "    latitude = str(currRecord['lat'])\n",
    "    longitude = str(currRecord['lon'])\n",
    "    http = str(HTTP_BASE_STRING + image_id + \".jpg\")\n",
    "    urban_name = str(currRecord['NAME10'])\n",
    "    sample_cat = str(currRecord['sampleCat'])\n",
    "    view_cat = \"straight\"\n",
    "    if(currRecord['viewCat'] == \"sideAngle\"):\n",
    "        view_cat = \"side\"\n",
    "    namesString = 'INSERT INTO image_meta (image_id,year,month,latitude,longitude,view_cat,http,urban_name,sample_cat) '\n",
    "    valuesString = 'VALUES (%s,%s,%s,%s,%s,%s,%s,%s,%s)'\n",
    "    insertString = namesString + valuesString\n",
    "    try:\n",
    "        trans = connection.begin()\n",
    "        a = connection.execute(\n",
    "            insertString,\n",
    "            (\n",
    "                image_id,\n",
    "                year,\n",
    "                month,\n",
    "                latitude,\n",
    "                longitude,\n",
    "                view_cat,\n",
    "                http,\n",
    "                urban_name,\n",
    "                sample_cat\n",
    "            )\n",
    "        )\n",
    "        trans.commit()\n",
    "    except Exception as e:\n",
    "        print(str(e))\n",
    "        trans.rollback()"
   ]
  },
  {
   "cell_type": "code",
   "execution_count": null,
   "metadata": {},
   "outputs": [],
   "source": [
    "def fillCarTable(CAR_CSV):\n",
    "    rawData = ps.read_csv(CAR_CSV)\n",
    "    numObs = len(rawData['imgId'])\n",
    "    insertString = 'INSERT INTO car_images (image_id,car_cat) VALUES (%s,%s) '\n",
    "    print(numObs)\n",
    "    for recordIndex in range(numObs):\n",
    "        currRecord = rawData.iloc[recordIndex]\n",
    "        print('a')\n",
    "        try:\n",
    "            trans = connection.begin()\n",
    "            a = connection.execute(\n",
    "                insertString,\n",
    "                (\n",
    "                    str(currRecord['imgId']),\n",
    "                    str(currRecord['hasCars'])\n",
    "                )\n",
    "            )\n",
    "            trans.commit()\n",
    "        except Exception as e:\n",
    "            print('oy')\n",
    "            print(str(e))\n",
    "            trans.rollback()"
   ]
  },
  {
   "cell_type": "code",
   "execution_count": null,
   "metadata": {},
   "outputs": [],
   "source": [
    "def insertImgPSPRecord(currRecord): \n",
    "    catString = 'INSERT INTO psp_net_scores (image_id'\n",
    "    valueString = 'VALUES (%s'\n",
    "    valArray = [str(currRecord['panid'])]\n",
    "    for cat in PSP_CATEGORIES:\n",
    "        catString = catString + ',' + cat\n",
    "        valueString += ',%s'\n",
    "        if cat in PSP_RENAMED:\n",
    "            valArray.append(currRecord[PSP_ORIG_NAMES[PSP_RENAMED.index(cat)]])\n",
    "        else:\n",
    "            valArray.append(currRecord[cat])\n",
    "    catString +=') '\n",
    "    valueString += ')'\n",
    "    insertString = catString + valueString\n",
    "    try:\n",
    "        trans = connection.begin()\n",
    "        a = connection.execute( \n",
    "            insertString,\n",
    "            (\n",
    "                valArray\n",
    "            )\n",
    "        )\n",
    "        trans.commit()\n",
    "    except Exception as e:\n",
    "        print(str(e))\n",
    "        #print(\"oy\")\n",
    "        trans.rollback()"
   ]
  },
  {
   "cell_type": "code",
   "execution_count": null,
   "metadata": {},
   "outputs": [],
   "source": [
    "def loadImgMetaToSQL(imgRecords):\n",
    "    numRecords = len(imgRecords['id'])\n",
    "    for recordIndex in range(numRecords):\n",
    "        insertImgMetaRecord(imgRecords.iloc[recordIndex])"
   ]
  },
  {
   "cell_type": "code",
   "execution_count": null,
   "metadata": {},
   "outputs": [],
   "source": [
    "def loadImagePSPToSQL(imgRecords):\n",
    "    numRecords = len(imgRecords['id'])\n",
    "    for recordIndex in range(numRecords):\n",
    "        insertImgPSPRecord(imgRecords.iloc[recordIndex])"
   ]
  },
  {
   "cell_type": "code",
   "execution_count": null,
   "metadata": {},
   "outputs": [],
   "source": [
    "def createCategory(inData,categories,categoryName):\n",
    "    tempData = np.zeros((len(inData['wall']),1))\n",
    "    index=0\n",
    "    for category in categories:\n",
    "        print(category)\n",
    "        tempData = np.add(tempData,np.array(inData[category]).reshape(len(inData['wall']),1))\n",
    "    inData[categoryName] = tempData"
   ]
  },
  {
   "cell_type": "code",
   "execution_count": null,
   "metadata": {},
   "outputs": [],
   "source": [
    "def createCategories(inData):\n",
    "    # crate the built environment category\n",
    "    builtEnv = ['wall','building','road','windowpane','sidewalk','hovel','house','fence','railing',\n",
    "               'signboard','skyscraper','path','stairs','runway','screen door','stairway','bridge',\n",
    "               'bench','booth','awning','streetlight','television receiver','pole','bannister','escalator',\n",
    "               'fountain','swimming pool','step','sculpture','traffic light','pier']\n",
    "    createCategory(inData,builtEnv,'built_env')\n",
    "\n",
    "    build2 = ['house','building','skyscraper','windowpane','hovel']\n",
    "    createCategory(inData,build2,'build2')\n",
    "    \n",
    "    # create the accessibility category \n",
    "    accessibility = ['sidewalk','escalator','path','stairs','stairway','bench','step']\n",
    "    createCategory(inData,accessibility,'accessibility')\n",
    "    \n",
    "    # create the allNature category\n",
    "    allNature = ['tree','grass','plant','field','land','flower','water','sea','waterfall','lake','earth',\n",
    "                'mountain','rock','sky','sand','hill','dirt track']\n",
    "    createCategory(inData,allNature,'all_nature')\n",
    "    \n",
    "    # create the greenspace cateogry \n",
    "    greenspace = ['tree','grass','plant','field','flower']\n",
    "    createCategory(inData,greenspace,'greenspace')\n",
    "    \n",
    "    # create the bluespace category \n",
    "    bluespace = ['water','sea','waterfall','lake']\n",
    "    createCategory(inData,bluespace,'bluespace')\n",
    "    \n",
    "    # create the otherNature category\n",
    "    otherNature = ['earth','mountain','rock','sky','sand','hill','dirt track','land']\n",
    "    createCategory(inData,otherNature,'other_nature')\n",
    "    \n",
    "    # create the animate category\n",
    "    animate = ['person','boat','car','bus','truck','airplane','van','ship','minibike','animal','bicycle']\n",
    "    createCategory(inData,animate,'animate')"
   ]
  },
  {
   "cell_type": "code",
   "execution_count": null,
   "metadata": {},
   "outputs": [],
   "source": [
    "def initializeMTTSTableRecord(tablename,imgId):\n",
    "    nameString = 'INSERT INTO ' + tablename + ' (image_id,strong_mu,strong_sigma,mod_mu,mod_sigma,slight_mu,slight_sigma,n_sampled) '\n",
    "    valueString = 'VALUES (%s,%s,%s,%s,%s,%s,%s,%s)'\n",
    "    insertString = nameString + valueString\n",
    "    try:\n",
    "        trans = connection.begin()\n",
    "        a = connection.execute(\n",
    "            insertString, \n",
    "            (\n",
    "                imgId,\n",
    "                '25.0',\n",
    "                '8.333',\n",
    "                '25.0',\n",
    "                '8.333',\n",
    "                '25.0',\n",
    "                '8.333',\n",
    "                '0'\n",
    "            )\n",
    "        )\n",
    "        trans.commit()\n",
    "    except Exception as e:\n",
    "        print(str(e))\n",
    "        trans.rollback()"
   ]
  },
  {
   "cell_type": "code",
   "execution_count": null,
   "metadata": {},
   "outputs": [],
   "source": [
    "def initializeMTTSTable(label,imgIds):\n",
    "    for img in imgIds:\n",
    "        initializeMTTSTableRecord('mt_tskill_' + label,img)"
   ]
  },
  {
   "cell_type": "code",
   "execution_count": null,
   "metadata": {},
   "outputs": [],
   "source": [
    "def initializeWebTSTableRecord(tablename,imgId):\n",
    "    nameString = 'INSERT INTO ' + tablename + ' (image_id,mu,sigma,n_sampled) '\n",
    "    valueString = 'VALUES (%s,%s,%s,%s)'\n",
    "    insertString = nameString + valueString\n",
    "    try:\n",
    "        trans = connection.begin()\n",
    "        a = connection.execute(\n",
    "            insertString, \n",
    "            (\n",
    "                imgId,\n",
    "                '25.0',\n",
    "                '8.333',\n",
    "                '0'\n",
    "            )\n",
    "        )\n",
    "        trans.commit()\n",
    "    except Exception as e:\n",
    "        print(str(e))\n",
    "        #print(\"oy\")\n",
    "        trans.rollback()"
   ]
  },
  {
   "cell_type": "code",
   "execution_count": null,
   "metadata": {},
   "outputs": [],
   "source": [
    "def initializeWebTSTable(label,imgIds):\n",
    "    for img in imgIds:\n",
    "        initializeWebTSTableRecord('web_tskill_' + label,img)"
   ]
  },
  {
   "cell_type": "code",
   "execution_count": null,
   "metadata": {},
   "outputs": [],
   "source": [
    "def initializeTSTables(imgIds):\n",
    "    for label in OUTCOME_LABELS:\n",
    "        initializeMTTSTable(label,imgIds)\n",
    "        initializeWebTSTable(label,imgIds)"
   ]
  },
  {
   "cell_type": "code",
   "execution_count": null,
   "metadata": {},
   "outputs": [],
   "source": [
    "#imgData = loadImageData(GSV_CSV,PSP_CSV,testing=True)\n",
    "#imgData = ps.read_csv(GSV_CSV)\n",
    "#createCategories(imgData)\n",
    "#loadImgMetaToSQL(imgData)\n",
    "#loadImagePSPToSQL(imgData)\n",
    "initializeTSTables(imgData['panid'])\n",
    "fillCarTable(CAR_CSV)"
   ]
  }
 ],
 "metadata": {
  "kernelspec": {
   "display_name": "Python 3",
   "language": "python",
   "name": "python3"
  },
  "language_info": {
   "codemirror_mode": {
    "name": "ipython",
    "version": 3
   },
   "file_extension": ".py",
   "mimetype": "text/x-python",
   "name": "python",
   "nbconvert_exporter": "python",
   "pygments_lexer": "ipython3",
   "version": "3.7.4"
  }
 },
 "nbformat": 4,
 "nbformat_minor": 2
}
